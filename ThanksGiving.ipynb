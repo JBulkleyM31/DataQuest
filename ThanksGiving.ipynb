{
 "cells": [
  {
   "cell_type": "markdown",
   "metadata": {
    "collapsed": true
   },
   "source": [
    "Import packages, read in the required csv files."
   ]
  },
  {
   "cell_type": "code",
   "execution_count": 3,
   "metadata": {
    "collapsed": false
   },
   "outputs": [],
   "source": [
    "import pandas as pd\n",
    "data = pd.read_csv('thanksgiving-2015-poll-data.csv', encoding='Latin-1')"
   ]
  },
  {
   "cell_type": "code",
   "execution_count": 4,
   "metadata": {
    "collapsed": false
   },
   "outputs": [
    {
     "data": {
      "text/html": [
       "<div>\n",
       "<table border=\"1\" class=\"dataframe\">\n",
       "  <thead>\n",
       "    <tr style=\"text-align: right;\">\n",
       "      <th></th>\n",
       "      <th>RespondentID</th>\n",
       "      <th>Do you celebrate Thanksgiving?</th>\n",
       "      <th>What is typically the main dish at your Thanksgiving dinner?</th>\n",
       "      <th>What is typically the main dish at your Thanksgiving dinner? - Other (please specify)</th>\n",
       "      <th>How is the main dish typically cooked?</th>\n",
       "      <th>How is the main dish typically cooked? - Other (please specify)</th>\n",
       "      <th>What kind of stuffing/dressing do you typically have?</th>\n",
       "      <th>What kind of stuffing/dressing do you typically have? - Other (please specify)</th>\n",
       "      <th>What type of cranberry saucedo you typically have?</th>\n",
       "      <th>What type of cranberry saucedo you typically have? - Other (please specify)</th>\n",
       "      <th>...</th>\n",
       "      <th>Have you ever tried to meet up with hometown friends on Thanksgiving night?</th>\n",
       "      <th>Have you ever attended a \"Friendsgiving?\"</th>\n",
       "      <th>Will you shop any Black Friday sales on Thanksgiving Day?</th>\n",
       "      <th>Do you work in retail?</th>\n",
       "      <th>Will you employer make you work on Black Friday?</th>\n",
       "      <th>How would you describe where you live?</th>\n",
       "      <th>Age</th>\n",
       "      <th>What is your gender?</th>\n",
       "      <th>How much total combined money did all members of your HOUSEHOLD earn last year?</th>\n",
       "      <th>US Region</th>\n",
       "    </tr>\n",
       "  </thead>\n",
       "  <tbody>\n",
       "    <tr>\n",
       "      <th>0</th>\n",
       "      <td>4337954960</td>\n",
       "      <td>Yes</td>\n",
       "      <td>Turkey</td>\n",
       "      <td>NaN</td>\n",
       "      <td>Baked</td>\n",
       "      <td>NaN</td>\n",
       "      <td>Bread-based</td>\n",
       "      <td>NaN</td>\n",
       "      <td>None</td>\n",
       "      <td>NaN</td>\n",
       "      <td>...</td>\n",
       "      <td>Yes</td>\n",
       "      <td>No</td>\n",
       "      <td>No</td>\n",
       "      <td>No</td>\n",
       "      <td>NaN</td>\n",
       "      <td>Suburban</td>\n",
       "      <td>18 - 29</td>\n",
       "      <td>Male</td>\n",
       "      <td>$75,000 to $99,999</td>\n",
       "      <td>Middle Atlantic</td>\n",
       "    </tr>\n",
       "    <tr>\n",
       "      <th>1</th>\n",
       "      <td>4337951949</td>\n",
       "      <td>Yes</td>\n",
       "      <td>Turkey</td>\n",
       "      <td>NaN</td>\n",
       "      <td>Baked</td>\n",
       "      <td>NaN</td>\n",
       "      <td>Bread-based</td>\n",
       "      <td>NaN</td>\n",
       "      <td>Other (please specify)</td>\n",
       "      <td>Homemade cranberry gelatin ring</td>\n",
       "      <td>...</td>\n",
       "      <td>No</td>\n",
       "      <td>No</td>\n",
       "      <td>Yes</td>\n",
       "      <td>No</td>\n",
       "      <td>NaN</td>\n",
       "      <td>Rural</td>\n",
       "      <td>18 - 29</td>\n",
       "      <td>Female</td>\n",
       "      <td>$50,000 to $74,999</td>\n",
       "      <td>East South Central</td>\n",
       "    </tr>\n",
       "    <tr>\n",
       "      <th>2</th>\n",
       "      <td>4337935621</td>\n",
       "      <td>Yes</td>\n",
       "      <td>Turkey</td>\n",
       "      <td>NaN</td>\n",
       "      <td>Roasted</td>\n",
       "      <td>NaN</td>\n",
       "      <td>Rice-based</td>\n",
       "      <td>NaN</td>\n",
       "      <td>Homemade</td>\n",
       "      <td>NaN</td>\n",
       "      <td>...</td>\n",
       "      <td>Yes</td>\n",
       "      <td>Yes</td>\n",
       "      <td>Yes</td>\n",
       "      <td>No</td>\n",
       "      <td>NaN</td>\n",
       "      <td>Suburban</td>\n",
       "      <td>18 - 29</td>\n",
       "      <td>Male</td>\n",
       "      <td>$0 to $9,999</td>\n",
       "      <td>Mountain</td>\n",
       "    </tr>\n",
       "    <tr>\n",
       "      <th>3</th>\n",
       "      <td>4337933040</td>\n",
       "      <td>Yes</td>\n",
       "      <td>Turkey</td>\n",
       "      <td>NaN</td>\n",
       "      <td>Baked</td>\n",
       "      <td>NaN</td>\n",
       "      <td>Bread-based</td>\n",
       "      <td>NaN</td>\n",
       "      <td>Homemade</td>\n",
       "      <td>NaN</td>\n",
       "      <td>...</td>\n",
       "      <td>Yes</td>\n",
       "      <td>No</td>\n",
       "      <td>No</td>\n",
       "      <td>No</td>\n",
       "      <td>NaN</td>\n",
       "      <td>Urban</td>\n",
       "      <td>30 - 44</td>\n",
       "      <td>Male</td>\n",
       "      <td>$200,000 and up</td>\n",
       "      <td>Pacific</td>\n",
       "    </tr>\n",
       "    <tr>\n",
       "      <th>4</th>\n",
       "      <td>4337931983</td>\n",
       "      <td>Yes</td>\n",
       "      <td>Tofurkey</td>\n",
       "      <td>NaN</td>\n",
       "      <td>Baked</td>\n",
       "      <td>NaN</td>\n",
       "      <td>Bread-based</td>\n",
       "      <td>NaN</td>\n",
       "      <td>Canned</td>\n",
       "      <td>NaN</td>\n",
       "      <td>...</td>\n",
       "      <td>Yes</td>\n",
       "      <td>No</td>\n",
       "      <td>No</td>\n",
       "      <td>No</td>\n",
       "      <td>NaN</td>\n",
       "      <td>Urban</td>\n",
       "      <td>30 - 44</td>\n",
       "      <td>Male</td>\n",
       "      <td>$100,000 to $124,999</td>\n",
       "      <td>Pacific</td>\n",
       "    </tr>\n",
       "  </tbody>\n",
       "</table>\n",
       "<p>5 rows × 65 columns</p>\n",
       "</div>"
      ],
      "text/plain": [
       "   RespondentID Do you celebrate Thanksgiving?  \\\n",
       "0    4337954960                            Yes   \n",
       "1    4337951949                            Yes   \n",
       "2    4337935621                            Yes   \n",
       "3    4337933040                            Yes   \n",
       "4    4337931983                            Yes   \n",
       "\n",
       "  What is typically the main dish at your Thanksgiving dinner?  \\\n",
       "0                                             Turkey             \n",
       "1                                             Turkey             \n",
       "2                                             Turkey             \n",
       "3                                             Turkey             \n",
       "4                                           Tofurkey             \n",
       "\n",
       "  What is typically the main dish at your Thanksgiving dinner? - Other (please specify)  \\\n",
       "0                                                NaN                                      \n",
       "1                                                NaN                                      \n",
       "2                                                NaN                                      \n",
       "3                                                NaN                                      \n",
       "4                                                NaN                                      \n",
       "\n",
       "  How is the main dish typically cooked?  \\\n",
       "0                                  Baked   \n",
       "1                                  Baked   \n",
       "2                                Roasted   \n",
       "3                                  Baked   \n",
       "4                                  Baked   \n",
       "\n",
       "  How is the main dish typically cooked? - Other (please specify)  \\\n",
       "0                                                NaN                \n",
       "1                                                NaN                \n",
       "2                                                NaN                \n",
       "3                                                NaN                \n",
       "4                                                NaN                \n",
       "\n",
       "  What kind of stuffing/dressing do you typically have?  \\\n",
       "0                                        Bread-based      \n",
       "1                                        Bread-based      \n",
       "2                                         Rice-based      \n",
       "3                                        Bread-based      \n",
       "4                                        Bread-based      \n",
       "\n",
       "  What kind of stuffing/dressing do you typically have? - Other (please specify)  \\\n",
       "0                                                NaN                               \n",
       "1                                                NaN                               \n",
       "2                                                NaN                               \n",
       "3                                                NaN                               \n",
       "4                                                NaN                               \n",
       "\n",
       "  What type of cranberry saucedo you typically have?  \\\n",
       "0                                               None   \n",
       "1                             Other (please specify)   \n",
       "2                                           Homemade   \n",
       "3                                           Homemade   \n",
       "4                                             Canned   \n",
       "\n",
       "  What type of cranberry saucedo you typically have? - Other (please specify)  \\\n",
       "0                                                NaN                            \n",
       "1                    Homemade cranberry gelatin ring                            \n",
       "2                                                NaN                            \n",
       "3                                                NaN                            \n",
       "4                                                NaN                            \n",
       "\n",
       "          ...          \\\n",
       "0         ...           \n",
       "1         ...           \n",
       "2         ...           \n",
       "3         ...           \n",
       "4         ...           \n",
       "\n",
       "  Have you ever tried to meet up with hometown friends on Thanksgiving night?  \\\n",
       "0                                                Yes                            \n",
       "1                                                 No                            \n",
       "2                                                Yes                            \n",
       "3                                                Yes                            \n",
       "4                                                Yes                            \n",
       "\n",
       "  Have you ever attended a \"Friendsgiving?\"  \\\n",
       "0                                        No   \n",
       "1                                        No   \n",
       "2                                       Yes   \n",
       "3                                        No   \n",
       "4                                        No   \n",
       "\n",
       "  Will you shop any Black Friday sales on Thanksgiving Day?  \\\n",
       "0                                                 No          \n",
       "1                                                Yes          \n",
       "2                                                Yes          \n",
       "3                                                 No          \n",
       "4                                                 No          \n",
       "\n",
       "  Do you work in retail? Will you employer make you work on Black Friday?  \\\n",
       "0                     No                                              NaN   \n",
       "1                     No                                              NaN   \n",
       "2                     No                                              NaN   \n",
       "3                     No                                              NaN   \n",
       "4                     No                                              NaN   \n",
       "\n",
       "  How would you describe where you live?      Age What is your gender?  \\\n",
       "0                               Suburban  18 - 29                 Male   \n",
       "1                                  Rural  18 - 29               Female   \n",
       "2                               Suburban  18 - 29                 Male   \n",
       "3                                  Urban  30 - 44                 Male   \n",
       "4                                  Urban  30 - 44                 Male   \n",
       "\n",
       "  How much total combined money did all members of your HOUSEHOLD earn last year?  \\\n",
       "0                                 $75,000 to $99,999                                \n",
       "1                                 $50,000 to $74,999                                \n",
       "2                                       $0 to $9,999                                \n",
       "3                                    $200,000 and up                                \n",
       "4                               $100,000 to $124,999                                \n",
       "\n",
       "            US Region  \n",
       "0     Middle Atlantic  \n",
       "1  East South Central  \n",
       "2            Mountain  \n",
       "3             Pacific  \n",
       "4             Pacific  \n",
       "\n",
       "[5 rows x 65 columns]"
      ]
     },
     "execution_count": 4,
     "metadata": {},
     "output_type": "execute_result"
    }
   ],
   "source": [
    "data.head(5)"
   ]
  },
  {
   "cell_type": "markdown",
   "metadata": {},
   "source": [
    "Remove any respondent which does not celebrate Thanksgiving."
   ]
  },
  {
   "cell_type": "code",
   "execution_count": 5,
   "metadata": {
    "collapsed": false
   },
   "outputs": [
    {
     "name": "stdout",
     "output_type": "stream",
     "text": [
      "Yes    980\n",
      "No      78\n",
      "Name: Do you celebrate Thanksgiving?, dtype: int64\n"
     ]
    }
   ],
   "source": [
    "print(data['Do you celebrate Thanksgiving?'].value_counts())\n",
    "data= data[data['Do you celebrate Thanksgiving?'] == 'Yes']"
   ]
  },
  {
   "cell_type": "markdown",
   "metadata": {
    "collapsed": true
   },
   "source": [
    "Total the types of main dishes, and also highlight the relation of gravy to tofurkey. "
   ]
  },
  {
   "cell_type": "code",
   "execution_count": 6,
   "metadata": {
    "collapsed": false
   },
   "outputs": [
    {
     "name": "stdout",
     "output_type": "stream",
     "text": [
      "Main dish counts\n",
      "Turkey                    859\n",
      "Other (please specify)     35\n",
      "Ham/Pork                   29\n",
      "Tofurkey                   20\n",
      "Chicken                    12\n",
      "Roast beef                 11\n",
      "I don't know                5\n",
      "Turducken                   3\n",
      "Name: What is typically the main dish at your Thanksgiving dinner?, dtype: int64\n",
      "Gravy consumption for those whom had Tofurkey\n",
      "4      Yes\n",
      "33     Yes\n",
      "69      No\n",
      "72      No\n",
      "77     Yes\n",
      "145    Yes\n",
      "175    Yes\n",
      "218     No\n",
      "243    Yes\n",
      "275     No\n",
      "393    Yes\n",
      "399    Yes\n",
      "571    Yes\n",
      "594    Yes\n",
      "628     No\n",
      "774     No\n",
      "820     No\n",
      "837    Yes\n",
      "860     No\n",
      "953    Yes\n",
      "Name: Do you typically have gravy?, dtype: object\n"
     ]
    }
   ],
   "source": [
    "print('Main dish counts')\n",
    "print(data['What is typically the main dish at your Thanksgiving dinner?'].value_counts())\n",
    "print('Gravy consumption for those whom had Tofurkey')\n",
    "print(data[data['What is typically the main dish at your Thanksgiving dinner?'] == 'Tofurkey']['Do you typically have gravy?'])"
   ]
  },
  {
   "cell_type": "markdown",
   "metadata": {},
   "source": [
    "Pie consumption"
   ]
  },
  {
   "cell_type": "code",
   "execution_count": 7,
   "metadata": {
    "collapsed": false
   },
   "outputs": [
    {
     "name": "stdout",
     "output_type": "stream",
     "text": [
      "False    876\n",
      "True     104\n",
      "dtype: int64\n"
     ]
    }
   ],
   "source": [
    "apple_isnull = pd.isnull(data['Which type of pie is typically served at your Thanksgiving dinner? Please select all that apply. - Apple'])\n",
    "pumpkin_isnull = pd.isnull(data['Which type of pie is typically served at your Thanksgiving dinner? Please select all that apply. - Pumpkin'])\n",
    "pecan_isnull = pd.isnull(data['Which type of pie is typically served at your Thanksgiving dinner? Please select all that apply. - Pecan'])\n",
    "ate_pies = apple_isnull & pumpkin_isnull & pecan_isnull\n",
    "print(ate_pies.value_counts())"
   ]
  },
  {
   "cell_type": "code",
   "execution_count": 8,
   "metadata": {
    "collapsed": true
   },
   "outputs": [],
   "source": [
    "def agesplit(data):\n",
    "    if pd.isnull(data) == True:\n",
    "        return None\n",
    "    else:\n",
    "        datasplit = data.split('-')\n",
    "        age1 = datasplit[0]\n",
    "        age = age1.replace('+','')\n",
    "        int_age = int(age)\n",
    "        return int_age\n",
    "def incomesplit(data):\n",
    "    if pd.isnull(data) == True:\n",
    "        return None\n",
    "    else:\n",
    "        datasplit = data.split(' ')\n",
    "        income1 = datasplit[0]\n",
    "        if income1 == 'Prefer':\n",
    "            return None\n",
    "        income = income1.replace('$','')\n",
    "        income = income.replace(',','')\n",
    "        int_income = int(income)\n",
    "        return int_income"
   ]
  },
  {
   "cell_type": "code",
   "execution_count": 9,
   "metadata": {
    "collapsed": false
   },
   "outputs": [
    {
     "data": {
      "text/plain": [
       "count    947.000000\n",
       "mean      40.089757\n",
       "std       15.352014\n",
       "min       18.000000\n",
       "25%       30.000000\n",
       "50%       45.000000\n",
       "75%       60.000000\n",
       "max       60.000000\n",
       "Name: int_age, dtype: float64"
      ]
     },
     "execution_count": 9,
     "metadata": {},
     "output_type": "execute_result"
    }
   ],
   "source": [
    "data['int_age'] = data['Age'].apply(agesplit, 'int_age')\n",
    "data['int_age'].describe()"
   ]
  },
  {
   "cell_type": "markdown",
   "metadata": {},
   "source": [
    "These results should be used with caution, as this is biasing to younger ages. Respondents are counted as having ages of the lower limit of the bin they are in, regardless how old they actually are. For example, a person that is 28 years old would be in the 18-29 year old bin, and therefore assign an age of 18. Assuming that the ages with a given bin are well defined as an uniform distrubtion, a better appoarch would be to use a middle of the road value for each age bin,~23 year old for the first bin, 37 years old for the second, and etc. "
   ]
  },
  {
   "cell_type": "code",
   "execution_count": 10,
   "metadata": {
    "collapsed": false
   },
   "outputs": [
    {
     "data": {
      "text/plain": [
       "count       829.000000\n",
       "mean      75965.018094\n",
       "std       59068.636748\n",
       "min           0.000000\n",
       "25%       25000.000000\n",
       "50%       75000.000000\n",
       "75%      100000.000000\n",
       "max      200000.000000\n",
       "Name: int_income, dtype: float64"
      ]
     },
     "execution_count": 10,
     "metadata": {},
     "output_type": "execute_result"
    }
   ],
   "source": [
    "data['int_income']=data['How much total combined money did all members of your HOUSEHOLD earn last year?'].apply(incomesplit)\n",
    "data['int_income'].describe()"
   ]
  },
  {
   "cell_type": "code",
   "execution_count": 11,
   "metadata": {
    "collapsed": false
   },
   "outputs": [
    {
     "name": "stdout",
     "output_type": "stream",
     "text": [
      "Travel Plans for those earing > 150k\n",
      "Thanksgiving is happening at my home--I won't travel at all                         281\n",
      "Thanksgiving is local--it will take place in the town I live in                     203\n",
      "Thanksgiving is out of town but not too far--it's a drive of a few hours or less    150\n",
      "Thanksgiving is out of town and far away--I have to drive several hours or fly       55\n",
      "Name: How far will you travel for Thanksgiving?, dtype: int64\n",
      "Travel Plans for those earing < 150k\n",
      "Thanksgiving is happening at my home--I won't travel at all                         49\n",
      "Thanksgiving is local--it will take place in the town I live in                     25\n",
      "Thanksgiving is out of town but not too far--it's a drive of a few hours or less    16\n",
      "Thanksgiving is out of town and far away--I have to drive several hours or fly      12\n",
      "Name: How far will you travel for Thanksgiving?, dtype: int64\n"
     ]
    }
   ],
   "source": [
    "lt150k = data[data['int_income'] < 150000]\n",
    "print('Travel Plans for those earing > 150k')\n",
    "print(lt150k['How far will you travel for Thanksgiving?'].value_counts())\n",
    "gt150k = data[data['int_income'] > 150000]\n",
    "print('Travel Plans for those earing < 150k')\n",
    "print(gt150k['How far will you travel for Thanksgiving?'].value_counts())"
   ]
  },
  {
   "cell_type": "markdown",
   "metadata": {},
   "source": [
    "Respondents making over \\$150,000 a year, are more likely to host Thanksgiving in their own homes ($+8\\%$), and traveling large distances for those traveling for the holidays($+4\\%$). People in the lower income bracket are more likely to travel locally, within town or a reasonable driving distance ($+4\\%,+6\\%$), to another person's house for the festives. "
   ]
  },
  {
   "cell_type": "code",
   "execution_count": 12,
   "metadata": {
    "collapsed": false
   },
   "outputs": [
    {
     "name": "stdout",
     "output_type": "stream",
     "text": [
      "Index([                                                                                                                                u'RespondentID',\n",
      "                                                                                                                     u'Do you celebrate Thanksgiving?',\n",
      "                                                                                       u'What is typically the main dish at your Thanksgiving dinner?',\n",
      "                                                              u'What is typically the main dish at your Thanksgiving dinner? - Other (please specify)',\n",
      "                                                                                                             u'How is the main dish typically cooked?',\n",
      "                                                                                    u'How is the main dish typically cooked? - Other (please specify)',\n",
      "                                                                                              u'What kind of stuffing/dressing do you typically have?',\n",
      "                                                                     u'What kind of stuffing/dressing do you typically have? - Other (please specify)',\n",
      "                                                                                                 u'What type of cranberry saucedo you typically have?',\n",
      "                                                                        u'What type of cranberry saucedo you typically have? - Other (please specify)',\n",
      "                                                                                                                       u'Do you typically have gravy?',\n",
      "                        u'Which of these side dishes aretypically served at your Thanksgiving dinner? Please select all that apply. - Brussel sprouts',\n",
      "                                u'Which of these side dishes aretypically served at your Thanksgiving dinner? Please select all that apply. - Carrots',\n",
      "                            u'Which of these side dishes aretypically served at your Thanksgiving dinner? Please select all that apply. - Cauliflower',\n",
      "                                   u'Which of these side dishes aretypically served at your Thanksgiving dinner? Please select all that apply. - Corn',\n",
      "                              u'Which of these side dishes aretypically served at your Thanksgiving dinner? Please select all that apply. - Cornbread',\n",
      "                            u'Which of these side dishes aretypically served at your Thanksgiving dinner? Please select all that apply. - Fruit salad',\n",
      "       u'Which of these side dishes aretypically served at your Thanksgiving dinner? Please select all that apply. - Green beans/green bean casserole',\n",
      "                    u'Which of these side dishes aretypically served at your Thanksgiving dinner? Please select all that apply. - Macaroni and cheese',\n",
      "                        u'Which of these side dishes aretypically served at your Thanksgiving dinner? Please select all that apply. - Mashed potatoes',\n",
      "                         u'Which of these side dishes aretypically served at your Thanksgiving dinner? Please select all that apply. - Rolls/biscuits',\n",
      "                                 u'Which of these side dishes aretypically served at your Thanksgiving dinner? Please select all that apply. - Squash',\n",
      "                        u'Which of these side dishes aretypically served at your Thanksgiving dinner? Please select all that apply. - Vegetable salad',\n",
      "            u'Which of these side dishes aretypically served at your Thanksgiving dinner? Please select all that apply. - Yams/sweet potato casserole',\n",
      "                 u'Which of these side dishes aretypically served at your Thanksgiving dinner? Please select all that apply. - Other (please specify)',\n",
      "               u'Which of these side dishes aretypically served at your Thanksgiving dinner? Please select all that apply. - Other (please specify).1',\n",
      "                                           u'Which type of pie is typically served at your Thanksgiving dinner? Please select all that apply. - Apple',\n",
      "                                      u'Which type of pie is typically served at your Thanksgiving dinner? Please select all that apply. - Buttermilk',\n",
      "                                          u'Which type of pie is typically served at your Thanksgiving dinner? Please select all that apply. - Cherry',\n",
      "                                       u'Which type of pie is typically served at your Thanksgiving dinner? Please select all that apply. - Chocolate',\n",
      "                                   u'Which type of pie is typically served at your Thanksgiving dinner? Please select all that apply. - Coconut cream',\n",
      "                                        u'Which type of pie is typically served at your Thanksgiving dinner? Please select all that apply. - Key lime',\n",
      "                                           u'Which type of pie is typically served at your Thanksgiving dinner? Please select all that apply. - Peach',\n",
      "                                           u'Which type of pie is typically served at your Thanksgiving dinner? Please select all that apply. - Pecan',\n",
      "                                         u'Which type of pie is typically served at your Thanksgiving dinner? Please select all that apply. - Pumpkin',\n",
      "                                    u'Which type of pie is typically served at your Thanksgiving dinner? Please select all that apply. - Sweet Potato',\n",
      "                                            u'Which type of pie is typically served at your Thanksgiving dinner? Please select all that apply. - None',\n",
      "                          u'Which type of pie is typically served at your Thanksgiving dinner? Please select all that apply. - Other (please specify)',\n",
      "                        u'Which type of pie is typically served at your Thanksgiving dinner? Please select all that apply. - Other (please specify).1',\n",
      "                              u'Which of these desserts do you typically have at Thanksgiving dinner? Please select all that apply.   - Apple cobbler',\n",
      "                                   u'Which of these desserts do you typically have at Thanksgiving dinner? Please select all that apply.   - Blondies',\n",
      "                                   u'Which of these desserts do you typically have at Thanksgiving dinner? Please select all that apply.   - Brownies',\n",
      "                                u'Which of these desserts do you typically have at Thanksgiving dinner? Please select all that apply.   - Carrot cake',\n",
      "                                 u'Which of these desserts do you typically have at Thanksgiving dinner? Please select all that apply.   - Cheesecake',\n",
      "                                    u'Which of these desserts do you typically have at Thanksgiving dinner? Please select all that apply.   - Cookies',\n",
      "                                      u'Which of these desserts do you typically have at Thanksgiving dinner? Please select all that apply.   - Fudge',\n",
      "                                  u'Which of these desserts do you typically have at Thanksgiving dinner? Please select all that apply.   - Ice cream',\n",
      "                              u'Which of these desserts do you typically have at Thanksgiving dinner? Please select all that apply.   - Peach cobbler',\n",
      "                                       u'Which of these desserts do you typically have at Thanksgiving dinner? Please select all that apply.   - None',\n",
      "                     u'Which of these desserts do you typically have at Thanksgiving dinner? Please select all that apply.   - Other (please specify)',\n",
      "                   u'Which of these desserts do you typically have at Thanksgiving dinner? Please select all that apply.   - Other (please specify).1',\n",
      "                                                                                       u'Do you typically pray before or after the Thanksgiving meal?',\n",
      "                                                                                                          u'How far will you travel for Thanksgiving?',\n",
      "                                        u'Will you watch any of the following programs on Thanksgiving? Please select all that apply. - Macy's Parade',\n",
      "                                                                                       u'What's the age cutoff at your \"kids' table\" at Thanksgiving?',\n",
      "                                                                        u'Have you ever tried to meet up with hometown friends on Thanksgiving night?',\n",
      "                                                                                                          u'Have you ever attended a \"Friendsgiving?\"',\n",
      "                                                                                          u'Will you shop any Black Friday sales on Thanksgiving Day?',\n",
      "                                                                                                                             u'Do you work in retail?',\n",
      "                                                                                                   u'Will you employer make you work on Black Friday?',\n",
      "                                                                                                             u'How would you describe where you live?',\n",
      "                                                                                                                                                u'Age',\n",
      "                                                                                                                               u'What is your gender?',\n",
      "                                                                    u'How much total combined money did all members of your HOUSEHOLD earn last year?',\n",
      "                                                                                                                                          u'US Region',\n",
      "                                                                                                                                            u'int_age',\n",
      "                                                                                                                                         u'int_income'],\n",
      "      dtype='object')\n"
     ]
    }
   ],
   "source": [
    "print(data.columns)"
   ]
  },
  {
   "cell_type": "code",
   "execution_count": 13,
   "metadata": {
    "collapsed": false
   },
   "outputs": [
    {
     "name": "stdout",
     "output_type": "stream",
     "text": [
      "(2127, 40)\n"
     ]
    },
    {
     "data": {
      "text/plain": [
       "[u'Which type of pie is typically served at your Thanksgiving dinner? Please select all that apply. - Peach',\n",
       " u'Which type of pie is typically served at your Thanksgiving dinner? Please select all that apply. - Buttermilk',\n",
       " u'Which type of pie is typically served at your Thanksgiving dinner? Please select all that apply. - Coconut cream',\n",
       " u'Which type of pie is typically served at your Thanksgiving dinner? Please select all that apply. - Key lime',\n",
       " u'Which type of pie is typically served at your Thanksgiving dinner? Please select all that apply. - None',\n",
       " u'Which type of pie is typically served at your Thanksgiving dinner? Please select all that apply. - Cherry',\n",
       " u'Which type of pie is typically served at your Thanksgiving dinner? Please select all that apply. - Chocolate',\n",
       " u'Which type of pie is typically served at your Thanksgiving dinner? Please select all that apply. - Sweet Potato',\n",
       " u'Which type of pie is typically served at your Thanksgiving dinner? Please select all that apply. - Pecan',\n",
       " u'Which type of pie is typically served at your Thanksgiving dinner? Please select all that apply. - Apple',\n",
       " u'Which type of pie is typically served at your Thanksgiving dinner? Please select all that apply. - Pumpkin']"
      ]
     },
     "execution_count": 13,
     "metadata": {},
     "output_type": "execute_result"
    }
   ],
   "source": [
    "pies = (data.columns[26:37])\n",
    "consume_pie = {}\n",
    "for row in pies:\n",
    "    consume_pie[row] = len(data[data[row].notnull()][row])\n",
    "total_pie = sum(consume_pie.values())-(consume_pie['Which type of pie is typically served at your Thanksgiving dinner? Please select all that apply. - None'])\n",
    "no_pie = consume_pie['Which type of pie is typically served at your Thanksgiving dinner? Please select all that apply. - None']\n",
    "print(total_pie,no_pie)\n",
    "sorted_pie = sorted(consume_pie, key= consume_pie.get)\n",
    "sorted_pie "
   ]
  },
  {
   "cell_type": "code",
   "execution_count": 14,
   "metadata": {
    "collapsed": false,
    "scrolled": true
   },
   "outputs": [
    {
     "name": "stdout",
     "output_type": "stream",
     "text": [
      "(1338, 295)\n"
     ]
    },
    {
     "data": {
      "text/plain": [
       "[u'Which of these desserts do you typically have at Thanksgiving dinner? Please select all that apply.   - Blondies',\n",
       " u'Which of these desserts do you typically have at Thanksgiving dinner? Please select all that apply.   - Fudge',\n",
       " u'Which type of pie is typically served at your Thanksgiving dinner? Please select all that apply. - Other (please specify).1',\n",
       " u'Which of these desserts do you typically have at Thanksgiving dinner? Please select all that apply.   - Carrot cake',\n",
       " u'Which of these desserts do you typically have at Thanksgiving dinner? Please select all that apply.   - Peach cobbler',\n",
       " u'Which of these desserts do you typically have at Thanksgiving dinner? Please select all that apply.   - Apple cobbler',\n",
       " u'Which of these desserts do you typically have at Thanksgiving dinner? Please select all that apply.   - Brownies',\n",
       " u'Which of these desserts do you typically have at Thanksgiving dinner? Please select all that apply.   - Other (please specify)',\n",
       " u'Which of these desserts do you typically have at Thanksgiving dinner? Please select all that apply.   - Cheesecake',\n",
       " u'Which of these desserts do you typically have at Thanksgiving dinner? Please select all that apply.   - Cookies',\n",
       " u'Which of these desserts do you typically have at Thanksgiving dinner? Please select all that apply.   - Ice cream',\n",
       " u'Which of these desserts do you typically have at Thanksgiving dinner? Please select all that apply.   - None']"
      ]
     },
     "execution_count": 14,
     "metadata": {},
     "output_type": "execute_result"
    }
   ],
   "source": [
    "other_desert = (data.columns[38:50])\n",
    "consume_desert = {}\n",
    "for row in other_desert:\n",
    "    consume_desert[row] = len(data[data[row].notnull()][row])\n",
    "total_desert = sum(consume_desert.values())-consume_desert['Which of these desserts do you typically have at Thanksgiving dinner? Please select all that apply.   - None']\n",
    "no_desert = consume_desert['Which of these desserts do you typically have at Thanksgiving dinner? Please select all that apply.   - None']\n",
    "print(total_desert, no_desert)\n",
    "sorted_desert = sorted(consume_desert, key= consume_desert.get)\n",
    "sorted_desert"
   ]
  },
  {
   "cell_type": "markdown",
   "metadata": {},
   "source": [
    "The total choices for pies served at the respondents Thanksgiving was about 800 more that the non-pie desert choices. The three top choices of pie were first pumpkin, second apple, and thrid pecan, with three least offended pies being coconut cream, buttermilk and finally last peach. For other desert the most common item was Ice cream, followed by cookies and cheesecake, and the least common deserts were apple and peach cobbler and carrot cake. Note, no other desert was besides pie was the most common, so this list is count only those that did. "
   ]
  },
  {
   "cell_type": "code",
   "execution_count": 15,
   "metadata": {
    "collapsed": false
   },
   "outputs": [
    {
     "name": "stdout",
     "output_type": "stream",
     "text": [
      "No     881\n",
      "Yes     70\n",
      "Name: Do you work in retail?, dtype: int64\n",
      "Yes              43\n",
      "No               20\n",
      "Doesn't apply     7\n",
      "Name: Will you employer make you work on Black Friday?, dtype: int64\n",
      "25000.0     11\n",
      "10000.0      6\n",
      "0.0          5\n",
      "75000.0      4\n",
      "100000.0     4\n",
      "50000.0      3\n",
      "200000.0     3\n",
      "150000.0     2\n",
      "125000.0     1\n",
      "Name: int_income, dtype: int64\n"
     ]
    }
   ],
   "source": [
    "print(data[data['Do you work in retail?'].notnull() == True]['Do you work in retail?'].value_counts())\n",
    "print(data[data['Will you employer make you work on Black Friday?'].notnull() == True]['Will you employer make you work on Black Friday?'].value_counts())\n",
    "print(data[data['Will you employer make you work on Black Friday?'] == 'Yes']['int_income'].value_counts())"
   ]
  },
  {
   "cell_type": "markdown",
   "metadata": {},
   "source": [
    "Of those 70 that work in retail, the majority of them ($\\sim61\\%$) are required to work at somepoint on Thanksgiving. Although the overall precentage of people that work on Thanksgiving is still quite low, totaling only $\\sim7\\%$.\n",
    "There seems to be a negative correlation to income, the more money the household earns the less likely the respondent is to have to work on Thanksgiving. The majority of people that have to work on Thanksgiving make less than \\$25,000 a year. Infact those earning less than \\$150,000 dollars year make up $\\sim90\\%$ of the people working on Thanksgiving."
   ]
  },
  {
   "cell_type": "code",
   "execution_count": 16,
   "metadata": {
    "collapsed": false
   },
   "outputs": [
    {
     "name": "stdout",
     "output_type": "stream",
     "text": [
      "25000.0     44\n",
      "50000.0     33\n",
      "75000.0     28\n",
      "0.0         22\n",
      "100000.0    18\n",
      "10000.0     18\n",
      "200000.0    12\n",
      "125000.0     7\n",
      "150000.0     6\n",
      "175000.0     5\n",
      "Name: int_income, dtype: int64\n",
      "30.0    68\n",
      "18.0    66\n",
      "45.0    55\n",
      "60.0    33\n",
      "Name: int_age, dtype: int64\n"
     ]
    }
   ],
   "source": [
    "print(data[data['Will you shop any Black Friday sales on Thanksgiving Day?'] == 'Yes']['int_income'].value_counts())\n",
    "print(data[data['Will you shop any Black Friday sales on Thanksgiving Day?'] == 'Yes']['int_age'].value_counts())"
   ]
  },
  {
   "cell_type": "markdown",
   "metadata": {},
   "source": [
    "Again we see a similar correlation to income and black friday shopping as we did with working on Thanksgiving and income. The majority of blackfriday shopping are those of more modest means, mostly those earning $\\sim\\$75,000$ or less. Furthermore, younger people are more likely to shop on black friday than the older population, with seniors being the least likely to head out to shop.   \n"
   ]
  },
  {
   "cell_type": "code",
   "execution_count": null,
   "metadata": {
    "collapsed": true
   },
   "outputs": [],
   "source": []
  }
 ],
 "metadata": {
  "kernelspec": {
   "display_name": "Python 2",
   "language": "python",
   "name": "python2"
  },
  "language_info": {
   "codemirror_mode": {
    "name": "ipython",
    "version": 2
   },
   "file_extension": ".py",
   "mimetype": "text/x-python",
   "name": "python",
   "nbconvert_exporter": "python",
   "pygments_lexer": "ipython2",
   "version": "2.7.13"
  }
 },
 "nbformat": 4,
 "nbformat_minor": 0
}
